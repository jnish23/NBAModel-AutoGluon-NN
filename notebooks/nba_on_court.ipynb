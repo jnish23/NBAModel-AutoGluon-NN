{
 "cells": [
  {
   "cell_type": "code",
   "execution_count": 4,
   "metadata": {},
   "outputs": [],
   "source": [
    "import nba_on_court as noc\n",
    "import pandas as pd\n",
    "\n",
    "from nba_api.stats.endpoints import playbyplayv2\n"
   ]
  },
  {
   "cell_type": "code",
   "execution_count": 7,
   "metadata": {},
   "outputs": [],
   "source": [
    "from pathlib import Path\n",
    "from itertools import product\n",
    "import urllib.request\n",
    "import tarfile\n",
    "from typing import Union, Sequence\n",
    "\n",
    "def load_nba_data(path: Union[Path, str] = Path.cwd(),\n",
    "                  seasons: Union[Sequence, int] = range(1996, 2023),\n",
    "                  data: Union[Sequence, str] = (\"datanba\", \"nbastats\", \"pbpstats\",\n",
    "                                                \"shotdetail\", \"cdnnba\", \"nbastatsv3\"),\n",
    "                  seasontype: str = 'rg',\n",
    "                  untar: bool = False) -> None:\n",
    "    \"\"\"\n",
    "    Loading a nba play-by-play dataset from github repository https://github.com/shufinskiy/nba_data\n",
    "\n",
    "    Args:\n",
    "        path (Union[Path, str]): Path where downloaded file should be saved on the hard disk\n",
    "        seasons (Union[Sequence, int]): Sequence or integer of the year of start of season\n",
    "        data (Union[Sequence, str]): Sequence or string of data types to load\n",
    "        seasontype (str): Part of season: rg - Regular Season, po - Playoffs\n",
    "        untar (bool): Logical: do need to untar loaded archive\n",
    "\n",
    "    Returns:\n",
    "        None\n",
    "    \"\"\"\n",
    "    if isinstance(path, str):\n",
    "        path = Path(path)\n",
    "    if isinstance(seasons, int):\n",
    "        seasons = (seasons,)\n",
    "    if isinstance(data, str):\n",
    "        data = (data,)\n",
    "\n",
    "    if seasontype == 'rg':\n",
    "        need_data = tuple([\"_\".join([data, str(season)]) for (data, season) in product(data, seasons)])\n",
    "    elif seasontype == 'po':\n",
    "        need_data = tuple([\"_\".join([data, seasontype, str(season)]) \\\n",
    "                           for (data, seasontype, season) in product(data, (seasontype,), seasons)])\n",
    "    else:\n",
    "        need_data_rg = tuple([\"_\".join([data, str(season)]) for (data, season) in product(data, seasons)])\n",
    "        need_data_po = tuple([\"_\".join([data, seasontype, str(season)]) \\\n",
    "                              for (data, seasontype, season) in product(data, ('po',), seasons)])\n",
    "        need_data = need_data_rg + need_data_po\n",
    "\n",
    "    with urllib.request.urlopen(\"https://raw.githubusercontent.com/shufinskiy/nba_data/main/list_data.txt\") as f:\n",
    "        v = f.read().decode('utf-8').strip()\n",
    "\n",
    "    name_v = [string.split(\"=\")[0] for string in v.split(\"\\n\")]\n",
    "    element_v = [string.split(\"=\")[1] for string in v.split(\"\\n\")]\n",
    "\n",
    "    need_name = [name for name in name_v if name in need_data]\n",
    "    need_element = [element for (name, element) in zip(name_v, element_v) if name in need_data]\n",
    "\n",
    "    for i in range(len(need_name)):\n",
    "        t = urllib.request.urlopen(need_element[i])\n",
    "        with path.joinpath(\"\".join([need_name[i], \".tar.xz\"])).open(mode='wb') as f:\n",
    "            f.write(t.read())\n",
    "        if untar:\n",
    "            with tarfile.open(path.joinpath(\"\".join([need_name[i], \".tar.xz\"]))) as f:\n",
    "                f.extract(\"\".join([need_name[i], \".csv\"]), path)\n",
    "\n",
    "            path.joinpath(\"\".join([need_name[i], \".tar.xz\"])).unlink()"
   ]
  },
  {
   "cell_type": "code",
   "execution_count": 13,
   "metadata": {},
   "outputs": [
    {
     "name": "stdout",
     "output_type": "stream",
     "text": [
      "C:\\Users\\Jordan Nishimura\\nba_model_using_player_embeddings\\data\\raw\n"
     ]
    }
   ],
   "source": [
    "path = Path.home() / 'nba_model_using_player_embeddings' / 'data' / 'raw' \n",
    "print(path)\n",
    "load_nba_data(path, seasons = range(1996, 2024),\n",
    "                  data = (\"datanba\", \"nbastats\", \"pbpstats\", \"shotdetail\", \"cdnnba\", \"nbastatsv3\"), seasontype = 'po',\n",
    "                  untar = True)"
   ]
  },
  {
   "cell_type": "code",
   "execution_count": 2,
   "metadata": {},
   "outputs": [],
   "source": [
    "noc.load_nba_data(seasons=2022, data='nbastats')"
   ]
  },
  {
   "cell_type": "code",
   "execution_count": 5,
   "metadata": {},
   "outputs": [
    {
     "name": "stdout",
     "output_type": "stream",
     "text": [
      "[201142, 1629651, 201933, 201935, 203925, 201572, 201950, 1628960, 203114, 203507]\n",
      "['Kevin Durant', 'Nic Claxton', 'Blake Griffin', 'James Harden', 'Joe Harris', 'Brook Lopez', 'Jrue Holiday', 'Grayson Allen', 'Khris Middleton', 'Giannis Antetokounmpo']\n"
     ]
    },
    {
     "data": {
      "text/plain": [
       "['Kevin Durant',\n",
       " 'Nic Claxton',\n",
       " 'Blake Griffin',\n",
       " 'James Harden',\n",
       " 'Joe Harris',\n",
       " 'Brook Lopez',\n",
       " 'Jrue Holiday',\n",
       " 'Grayson Allen',\n",
       " 'Khris Middleton',\n",
       " 'Giannis Antetokounmpo']"
      ]
     },
     "execution_count": 5,
     "metadata": {},
     "output_type": "execute_result"
    }
   ],
   "source": [
    "\n",
    "pbp = playbyplayv2.PlayByPlayV2(game_id=\"0022100001\").play_by_play.get_data_frame()\n",
    "pbp_with_players = noc.players_on_court(pbp)\n",
    "len(pbp_with_players.columns) - len(pbp.columns)\n",
    "10\n",
    "\n",
    "players_id = list(pbp_with_players.iloc[0, 34:].reset_index(drop=True))\n",
    "print(players_id)\n",
    "[201142, 1629651, 201933, 201935, 203925, 201572, 201950, 1628960, 203114, 203507]\n",
    "\n",
    "players_name = noc.players_name(players_id)\n",
    "print(players_name)\n",
    "['Kevin Durant', 'Nic Claxton', 'Blake Griffin', 'James Harden', 'Joe Harris',\n",
    " 'Brook Lopez', 'Jrue Holiday', 'Grayson Allen', 'Khris Middleton', 'Giannis Antetokounmpo']"
   ]
  },
  {
   "cell_type": "code",
   "execution_count": 6,
   "metadata": {},
   "outputs": [
    {
     "name": "stdout",
     "output_type": "stream",
     "text": [
      "(463, 34) (396, 19)\n",
      "(463, 50)\n"
     ]
    },
    {
     "data": {
      "text/plain": [
       "(463, 50)"
      ]
     },
     "execution_count": 6,
     "metadata": {},
     "output_type": "execute_result"
    }
   ],
   "source": [
    "noc.load_nba_data(seasons=2022, data=('nbastats', 'pbpstats'), seasontype='po', untar=True)\n",
    "\n",
    "nbastats = pd.read_csv('nbastats_po_2022.csv')\n",
    "pbpstats = pd.read_csv('pbpstats_po_2022.csv')\n",
    "\n",
    "nbastats = nbastats.loc[nbastats['GAME_ID'] == 42200405].reset_index(drop=True)\n",
    "pbpstats = pbpstats.loc[pbpstats['GAMEID'] == 42200405].reset_index(drop=True)\n",
    "\n",
    "print(nbastats.shape, pbpstats.shape)\n",
    "((463, 34), (396, 19))\n",
    "\n",
    "full_pbp = noc.left_join_nbastats(nbastats, pbpstats)\n",
    "print(full_pbp.shape)\n",
    "(463, 50)"
   ]
  },
  {
   "cell_type": "code",
   "execution_count": null,
   "metadata": {},
   "outputs": [],
   "source": []
  }
 ],
 "metadata": {
  "kernelspec": {
   "display_name": ".venv",
   "language": "python",
   "name": "python3"
  },
  "language_info": {
   "codemirror_mode": {
    "name": "ipython",
    "version": 3
   },
   "file_extension": ".py",
   "mimetype": "text/x-python",
   "name": "python",
   "nbconvert_exporter": "python",
   "pygments_lexer": "ipython3",
   "version": "3.11.9"
  }
 },
 "nbformat": 4,
 "nbformat_minor": 2
}
